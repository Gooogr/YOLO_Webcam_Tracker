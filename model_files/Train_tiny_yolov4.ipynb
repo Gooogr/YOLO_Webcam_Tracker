{
  "nbformat": 4,
  "nbformat_minor": 0,
  "metadata": {
    "kernelspec": {
      "language": "python",
      "display_name": "Python 3",
      "name": "python3"
    },
    "language_info": {
      "pygments_lexer": "ipython3",
      "nbconvert_exporter": "python",
      "version": "3.6.4",
      "file_extension": ".py",
      "codemirror_mode": {
        "name": "ipython",
        "version": 3
      },
      "name": "python",
      "mimetype": "text/x-python"
    },
    "colab": {
      "name": "Train_tiny_yolov4.ipynb",
      "provenance": [],
      "collapsed_sections": [],
      "toc_visible": true,
      "include_colab_link": true
    },
    "accelerator": "GPU"
  },
  "cells": [
    {
      "cell_type": "markdown",
      "metadata": {
        "id": "view-in-github",
        "colab_type": "text"
      },
      "source": [
        "<a href=\"https://colab.research.google.com/github/Gooogr/YOLO_Webcam_Tracker/blob/yolov4_tiny/model_files/Train_tiny_yolov4.ipynb\" target=\"_parent\"><img src=\"https://colab.research.google.com/assets/colab-badge.svg\" alt=\"Open In Colab\"/></a>"
      ]
    },
    {
      "cell_type": "code",
      "metadata": {
        "_uuid": "d629ff2d2480ee46fbb7e2d37f6b5fab8052498a",
        "_cell_guid": "79c7e3d0-c299-4dcb-8224-4455121ee9b0",
        "trusted": true,
        "id": "4qTOJMCvtl8e",
        "colab_type": "code",
        "colab": {}
      },
      "source": [
        "import os\n",
        "import fnmatch\n",
        "\n",
        "import numpy as np\n",
        "import cv2\n",
        "\n",
        "from google.colab import files\n",
        "from google.colab.patches import cv2_imshow"
      ],
      "execution_count": 1,
      "outputs": []
    },
    {
      "cell_type": "code",
      "metadata": {
        "id": "fK4-drFCV61W",
        "colab_type": "code",
        "colab": {
          "base_uri": "https://localhost:8080/",
          "height": 52
        },
        "outputId": "8e866b13-9bf8-44a4-d4f8-e965a388c240"
      },
      "source": [
        "! pip install -q awscli"
      ],
      "execution_count": null,
      "outputs": [
        {
          "output_type": "stream",
          "text": [
            "\u001b[K     |████████████████████████████████| 3.3MB 9.4MB/s \n",
            "\u001b[K     |████████████████████████████████| 6.6MB 59.2MB/s \n",
            "\u001b[?25h"
          ],
          "name": "stdout"
        }
      ]
    },
    {
      "cell_type": "code",
      "metadata": {
        "id": "qcIbCQgLZ5y6",
        "colab_type": "code",
        "colab": {
          "base_uri": "https://localhost:8080/",
          "height": 364
        },
        "outputId": "b1e2de1f-c0a8-4513-e14c-005ce9c67951"
      },
      "source": [
        "# Enable GPU\n",
        "# Check what we get: K80, P100, K4 or T4.\n",
        "! nvidia-smi"
      ],
      "execution_count": null,
      "outputs": [
        {
          "output_type": "stream",
          "text": [
            "Fri Aug 28 12:39:14 2020       \n",
            "+-----------------------------------------------------------------------------+\n",
            "| NVIDIA-SMI 450.57       Driver Version: 418.67       CUDA Version: 10.1     |\n",
            "|-------------------------------+----------------------+----------------------+\n",
            "| GPU  Name        Persistence-M| Bus-Id        Disp.A | Volatile Uncorr. ECC |\n",
            "| Fan  Temp  Perf  Pwr:Usage/Cap|         Memory-Usage | GPU-Util  Compute M. |\n",
            "|                               |                      |               MIG M. |\n",
            "|===============================+======================+======================|\n",
            "|   0  Tesla T4            Off  | 00000000:00:04.0 Off |                    0 |\n",
            "| N/A   46C    P8    10W /  70W |      0MiB / 15079MiB |      0%      Default |\n",
            "|                               |                      |                 ERR! |\n",
            "+-------------------------------+----------------------+----------------------+\n",
            "                                                                               \n",
            "+-----------------------------------------------------------------------------+\n",
            "| Processes:                                                                  |\n",
            "|  GPU   GI   CI        PID   Type   Process name                  GPU Memory |\n",
            "|        ID   ID                                                   Usage      |\n",
            "|=============================================================================|\n",
            "|  No running processes found                                                 |\n",
            "+-----------------------------------------------------------------------------+\n"
          ],
          "name": "stdout"
        }
      ]
    },
    {
      "cell_type": "markdown",
      "metadata": {
        "id": "dn_uHyozds_5",
        "colab_type": "text"
      },
      "source": [
        "## Utils"
      ]
    },
    {
      "cell_type": "code",
      "metadata": {
        "id": "5Ox-6-Z5dvnS",
        "colab_type": "code",
        "colab": {}
      },
      "source": [
        "#--- Dataset downloading utils ---\n",
        "def yolo2voc(data, w, h):\n",
        "  '''\n",
        "  Convert boundary box from YOLO format to VOC\n",
        "  '''\n",
        "  bbox_width = float(data[3]) * w\n",
        "  bbox_height = float(data[4]) * h\n",
        "  center_x = float(data[1]) * w\n",
        "  center_y = float(data[2]) * h\n",
        "  x_min = int(center_x - (bbox_width / 2))\n",
        "  y_min = int(center_y - (bbox_height / 2))\n",
        "  x_max = int(center_x + (bbox_width / 2))\n",
        "  y_max = int(center_y + (bbox_height / 2))\n",
        "  return(x_min, y_min, x_max, y_max)\n",
        "\n",
        "def show_data_sample(dir_path):\n",
        "  '''\n",
        "  Show random sample from dataset with boundary box\n",
        "  '''\n",
        "  txt_files = []\n",
        "  img_files = []\n",
        "  for txt_file in os.listdir(dir_path):\n",
        "      if fnmatch.fnmatch(txt_file, '*.txt'):\n",
        "        txt_files.append(txt_file)\n",
        "  print('Data pairs amount:', len(txt_files))\n",
        "\n",
        "  sample_name = txt_files[np.random.randint(len(txt_files))].split('.')[0]\n",
        "\n",
        "  txt_sample = open(os.path.join(dir_path, sample_name + '.txt'), 'r')\n",
        "  img_sample = cv2.imread(os.path.join(dir_path, sample_name + '.jpg'))\n",
        "  height = img_sample.shape[0]\n",
        "  width = img_sample.shape[1]\n",
        "  for line in txt_sample.readlines():\n",
        "      yolo_bndbox = (list(map(float, re.split('\\s',line)[0:5])))\n",
        "      voc_bndbox = yolo2voc(yolo_bndbox, width, height)\n",
        "      img_sample = cv2.rectangle(img_sample, voc_bndbox[:2], voc_bndbox[2:], color=[255, 0, 0], thickness=2)\n",
        "  img_sample = cv2.resize(img_sample, (0,0), fx=0.5, fy=0.5)  \n",
        "  cv2_imshow(img_sample)"
      ],
      "execution_count": null,
      "outputs": []
    },
    {
      "cell_type": "markdown",
      "metadata": {
        "id": "oiL_SDKH1wlB",
        "colab_type": "text"
      },
      "source": [
        "## Dataset downloading"
      ]
    },
    {
      "cell_type": "code",
      "metadata": {
        "id": "hIGKZRDLWKO_",
        "colab_type": "code",
        "colab": {}
      },
      "source": [
        "def setup_OIDv4Toolkit():\n",
        "  # Clone tookit for Open Image Dataset v4\n",
        "  ! git clone https://github.com/theAIGuysCode/OIDv4_ToolKit\n",
        "  % cd OIDv4_ToolKit\n",
        "  ! pip install -q -r  requirements.txt"
      ],
      "execution_count": null,
      "outputs": []
    },
    {
      "cell_type": "code",
      "metadata": {
        "id": "zcgGpHuwWgeR",
        "colab_type": "code",
        "colab": {
          "base_uri": "https://localhost:8080/",
          "height": 121
        },
        "outputId": "a420336c-60f4-4c89-d70b-71f94313dd2e"
      },
      "source": [
        "setup_OIDv4Toolkit()"
      ],
      "execution_count": null,
      "outputs": [
        {
          "output_type": "stream",
          "text": [
            "Cloning into 'OIDv4_ToolKit'...\n",
            "remote: Enumerating objects: 444, done.\u001b[K\n",
            "remote: Total 444 (delta 0), reused 0 (delta 0), pack-reused 444\u001b[K\n",
            "Receiving objects: 100% (444/444), 34.09 MiB | 11.11 MiB/s, done.\n",
            "Resolving deltas: 100% (157/157), done.\n",
            "/content/OIDv4_ToolKit\n"
          ],
          "name": "stdout"
        }
      ]
    },
    {
      "cell_type": "code",
      "metadata": {
        "id": "lUprTWeSX11C",
        "colab_type": "code",
        "colab": {
          "base_uri": "https://localhost:8080/",
          "height": 836
        },
        "outputId": "6f5834d9-b449-45a1-e260-b31cd2185bea"
      },
      "source": [
        "# Don't forget to specify --classes and --limit keys\n",
        "# Don't change --multiclasses key value. YOLO requires that all files be in the same folder\n",
        "! python3 main.py downloader -y \\\n",
        " --classes Human_face Human_hand  \\\n",
        " --type_csv train \\\n",
        " --limit 10000 \\\n",
        " --multiclasses 1"
      ],
      "execution_count": null,
      "outputs": [
        {
          "output_type": "stream",
          "text": [
            "\u001b[92m\n",
            "\t\t   ___   _____  ______            _    _    \n",
            "\t\t .'   `.|_   _||_   _ `.         | |  | |   \n",
            "\t\t/  .-.  \\ | |    | | `. \\ _   __ | |__| |_  \n",
            "\t\t| |   | | | |    | |  | |[ \\ [  ]|____   _| \n",
            "\t\t\\  `-'  /_| |_  _| |_.' / \\ \\/ /     _| |_  \n",
            "\t\t `.___.'|_____||______.'   \\__/     |_____|\n",
            "\t\u001b[0m\n",
            "\u001b[92m\n",
            "             _____                    _                 _             \n",
            "            (____ \\                  | |               | |            \n",
            "             _   \\ \\ ___  _ _ _ ____ | | ___   ____  _ | | ____  ____ \n",
            "            | |   | / _ \\| | | |  _ \\| |/ _ \\ / _  |/ || |/ _  )/ ___)\n",
            "            | |__/ / |_| | | | | | | | | |_| ( ( | ( (_| ( (/ /| |    \n",
            "            |_____/ \\___/ \\____|_| |_|_|\\___/ \\_||_|\\____|\\____)_|    \n",
            "                                                          \n",
            "        \u001b[0m\n",
            "    [INFO] | Downloading ['Human face', 'Human hand'] together.\u001b[0m\n",
            "\u001b[91m   [ERROR] | Missing the class-descriptions-boxable.csv file.\u001b[0m\n",
            "\u001b[94m[DOWNLOAD] | Automatic download.\u001b[0m\n",
            "...145%, 0 MB, 60239 KB/s, 0 seconds passed\n",
            "\u001b[94m[DOWNLOAD] | File class-descriptions-boxable.csv downloaded into OID/csv_folder/class-descriptions-boxable.csv.\u001b[0m\n",
            "\u001b[91m   [ERROR] | Missing the train-annotations-bbox.csv file.\u001b[0m\n",
            "\u001b[94m[DOWNLOAD] | Automatic download.\u001b[0m\n",
            "...100%, 1138 MB, 29636 KB/s, 39 seconds passed\n",
            "\u001b[94m[DOWNLOAD] | File train-annotations-bbox.csv downloaded into OID/csv_folder/train-annotations-bbox.csv.\u001b[0m\n",
            "\n",
            "\u001b[95mHuman face\u001b[0m\n",
            "    [INFO] | Downloading train images.\u001b[0m\n",
            "    [INFO] | [INFO] Found 331627 online images for train.\u001b[0m\n",
            "    [INFO] | Limiting to 10000 images.\u001b[0m\n",
            "    [INFO] | Download of 10000 images in train.\u001b[0m\n",
            "100% 10000/10000 [1:23:33<00:00,  1.99it/s]\n",
            "    [INFO] | Done!\u001b[0m\n",
            "    [INFO] | Creating labels for Human face of train.\u001b[0m\n",
            "    [INFO] | Labels creation completed.\u001b[0m\n",
            "\n",
            "\u001b[95mHuman hand\u001b[0m\n",
            "    [INFO] | Downloading train images.\u001b[0m\n",
            "    [INFO] | [INFO] Found 22093 online images for train.\u001b[0m\n",
            "    [INFO] | Limiting to 10000 images.\u001b[0m\n",
            "    [INFO] | Download of 9640 images in train.\u001b[0m\n",
            "100% 9640/9640 [1:14:37<00:00,  2.15it/s]\n",
            "    [INFO] | Done!\u001b[0m\n",
            "    [INFO] | Creating labels for Human hand of train.\u001b[0m\n",
            "    [INFO] | Labels creation completed.\u001b[0m\n"
          ],
          "name": "stdout"
        }
      ]
    },
    {
      "cell_type": "code",
      "metadata": {
        "id": "UO7Y31e_bOtc",
        "colab_type": "code",
        "colab": {
          "base_uri": "https://localhost:8080/",
          "height": 34
        },
        "outputId": "0f0ca2ed-f68e-456a-fc5d-4372ab910d03"
      },
      "source": [
        "%%writefile classes.txt\n",
        "Human face\n",
        "Human hand"
      ],
      "execution_count": null,
      "outputs": [
        {
          "output_type": "stream",
          "text": [
            "Overwriting classes.txt\n"
          ],
          "name": "stdout"
        }
      ]
    },
    {
      "cell_type": "code",
      "metadata": {
        "id": "8K9lRuidcOq4",
        "colab_type": "code",
        "colab": {
          "base_uri": "https://localhost:8080/",
          "height": 69
        },
        "outputId": "bfaed12b-c885-459a-c49a-90b72830b81b"
      },
      "source": [
        "# Convert annotations to normalazied YOLO version. \n",
        "! python convert_annotations.py"
      ],
      "execution_count": null,
      "outputs": [
        {
          "output_type": "stream",
          "text": [
            "Currently in subdirectory: train\n",
            "Converting annotations for class:  Human face_Human hand\n",
            "100% 19640/19640 [13:53<00:00, 23.56it/s]\n"
          ],
          "name": "stdout"
        }
      ]
    },
    {
      "cell_type": "code",
      "metadata": {
        "id": "S7cpgQYkceuz",
        "colab_type": "code",
        "colab": {
          "base_uri": "https://localhost:8080/",
          "height": 34
        },
        "outputId": "f3335640-3978-446e-b943-4178afa870e0"
      },
      "source": [
        "! pwd"
      ],
      "execution_count": null,
      "outputs": [
        {
          "output_type": "stream",
          "text": [
            "/content/OIDv4_ToolKit\n"
          ],
          "name": "stdout"
        }
      ]
    },
    {
      "cell_type": "code",
      "metadata": {
        "id": "qTTsn-z8ccCD",
        "colab_type": "code",
        "colab": {
          "base_uri": "https://localhost:8080/",
          "height": 34
        },
        "outputId": "8408076e-8629-4e26-a899-8e5760c5aadf"
      },
      "source": [
        "# Remove old labels. Count files amount in the dataset (images + labels).\n",
        "# Name of dataset folder corresponds to the selected labels types: <Class name 1>_<Class name 2>_ ...\n",
        "! rm -r /content/OIDv4_ToolKit/OID/Dataset/train/'Human face_Human hand'/Label\n",
        "! ls /content/OIDv4_ToolKit/OID/Dataset/train/'Human face_Human hand'/ | wc -l"
      ],
      "execution_count": null,
      "outputs": [
        {
          "output_type": "stream",
          "text": [
            "39280\n"
          ],
          "name": "stdout"
        }
      ]
    },
    {
      "cell_type": "code",
      "metadata": {
        "id": "l967HDcydONM",
        "colab_type": "code",
        "colab": {
          "base_uri": "https://localhost:8080/",
          "height": 34
        },
        "outputId": "b1bfe673-9c22-44eb-b02b-69676946bebc"
      },
      "source": [
        "# Move dataset folder to the root of working directory\n",
        "! mkdir /content/dataset\n",
        "\n",
        "# I can't use mv command because of \"Argument list too long error\"\n",
        "# Instead of that I will use while loop.\n",
        "# Read more here: https://www.cyberciti.biz/faq/argument-list-too-long-error-solution/\n",
        "\n",
        "# ! mv /content/OIDv4_ToolKit/OID/Dataset/train/'Human face_Human hand'/* /content/dataset\n",
        "! ls -1  /content/OIDv4_ToolKit/OID/Dataset/train/'Human face_Human hand'/ | while read file; do mv /content/OIDv4_ToolKit/OID/Dataset/train/'Human face_Human hand'/$file /content/dataset ; done"
      ],
      "execution_count": null,
      "outputs": [
        {
          "output_type": "stream",
          "text": [
            "/bin/bash: /bin/mv: Argument list too long\n"
          ],
          "name": "stdout"
        }
      ]
    },
    {
      "cell_type": "markdown",
      "metadata": {
        "id": "hCyaMxFVwVCs",
        "colab_type": "text"
      },
      "source": [
        "Alternative:\n",
        "https://www.cyberciti.biz/faq/argument-list-too-long-error-solution/"
      ]
    },
    {
      "cell_type": "code",
      "metadata": {
        "id": "9CKM8a8Wu2MC",
        "colab_type": "code",
        "colab": {
          "base_uri": "https://localhost:8080/",
          "height": 34
        },
        "outputId": "9a7b4d67-89a2-4c78-87a8-5e7f5b89333c"
      },
      "source": [
        "# Check that we succesfully move all files\n",
        "! ls /content/dataset/ | wc -l"
      ],
      "execution_count": null,
      "outputs": [
        {
          "output_type": "stream",
          "text": [
            "39280\n"
          ],
          "name": "stdout"
        }
      ]
    },
    {
      "cell_type": "code",
      "metadata": {
        "id": "vCJFOQYweFKC",
        "colab_type": "code",
        "colab": {}
      },
      "source": [
        "dir_path = '/content/dataset' \n",
        "show_data_sample(dir_path)"
      ],
      "execution_count": null,
      "outputs": []
    },
    {
      "cell_type": "markdown",
      "metadata": {
        "id": "juO7awfcI7dB",
        "colab_type": "text"
      },
      "source": [
        "## Setting up YOLO Darknet"
      ]
    },
    {
      "cell_type": "code",
      "metadata": {
        "id": "OUjp1sSziIMa",
        "colab_type": "code",
        "colab": {
          "base_uri": "https://localhost:8080/",
          "height": 34
        },
        "outputId": "5c14d548-59e2-4edd-9248-02ee223f0e06"
      },
      "source": [
        "% cd /content"
      ],
      "execution_count": null,
      "outputs": [
        {
          "output_type": "stream",
          "text": [
            "/content\n"
          ],
          "name": "stdout"
        }
      ]
    },
    {
      "cell_type": "code",
      "metadata": {
        "id": "6mdMIfR1OUfS",
        "colab_type": "code",
        "colab": {}
      },
      "source": [
        "def make_darknet():\n",
        "  '''\n",
        "  Run this function if darknet wasn`t setted up your root project folder\n",
        "  '''\n",
        "  # Clone and  make darknet in My Drive folder. We should prepare all config files there befory copy them to tmp\n",
        "  ! git clone https://github.com/AlexeyAB/darknet.git\n",
        "\n",
        "  # Enable GPU learning\n",
        "  %cd darknet\n",
        "  !sed -i 's/OPENCV=0/OPENCV=1/' Makefile\n",
        "  !sed -i 's/GPU=0/GPU=1/' Makefile\n",
        "  !sed -i 's/CUDNN=0/CUDNN=1/' Makefile\n",
        "  !sed -i 's/OPENMP=0/OPENMP=1/' Makefile\n",
        "\n",
        "  # verify CUDA\n",
        "  !/usr/local/cuda/bin/nvcc --version\n",
        "\n",
        "  ! make --silent"
      ],
      "execution_count": null,
      "outputs": []
    },
    {
      "cell_type": "markdown",
      "metadata": {
        "id": "jrLKHZFRV2C4",
        "colab_type": "text"
      },
      "source": [
        "Check saving rules in ```/content/darknet/src/detector.c```, lines 384 - 403\n",
        "\n",
        "```\n",
        " if (iteration >= (iter_save + 1000) || iteration % 1000 == 0) {\n",
        "     sprintf(buff, \"%s/%s_%d.weights\", backup_directory, base, iteration);\n",
        " if (iteration >= (iter_save_last + 100) || (iteration % 100 == 0 && iteration > 1)) {\n",
        "     sprintf(buff, \"%s/%s_last.weights\", backup_directory, base);\n",
        "```\n",
        "Change it if you need, but don't forget to ```! make``` it arter that.\n",
        "\n"
      ]
    },
    {
      "cell_type": "code",
      "metadata": {
        "id": "fje5ABOQPILR",
        "colab_type": "code",
        "colab": {}
      },
      "source": [
        "%%capture\n",
        "make_darknet()"
      ],
      "execution_count": null,
      "outputs": []
    },
    {
      "cell_type": "code",
      "metadata": {
        "id": "jZfV_m5HPNH-",
        "colab_type": "code",
        "colab": {}
      },
      "source": [
        "def download_pretrained_data(tiny_only=True):\n",
        "  # YOLOv4\n",
        "  # cfg files have already been in cfg folder\n",
        "  if tiny_only == False:\n",
        "    ! wget --quiet https://github.com/AlexeyAB/darknet/releases/download/darknet_yolo_v3_optimal/yolov4.weights\n",
        "    ! wget --quiet https://github.com/AlexeyAB/darknet/releases/download/darknet_yolo_v3_optimal/yolov4.conv.137\n",
        "\n",
        "  # YOLOv4 tiny\n",
        "  #! wget --quiet https://raw.githubusercontent.com/AlexeyAB/darknet/master/cfg/yolov4-tiny.cfg\n",
        "  ! wget --quiet https://github.com/AlexeyAB/darknet/releases/download/darknet_yolo_v4_pre/yolov4-tiny.weights\n",
        "  ! wget --quiet https://github.com/AlexeyAB/darknet/releases/download/darknet_yolo_v4_pre/yolov4-tiny.conv.29\n",
        "\n",
        "  "
      ],
      "execution_count": null,
      "outputs": []
    },
    {
      "cell_type": "code",
      "metadata": {
        "id": "PsxnDsMA5La9",
        "colab_type": "code",
        "colab": {}
      },
      "source": [
        "download_pretrained_data()"
      ],
      "execution_count": null,
      "outputs": []
    },
    {
      "cell_type": "code",
      "metadata": {
        "id": "gxHlHHb15Y9b",
        "colab_type": "code",
        "colab": {}
      },
      "source": [
        "def predict_sample(tiny=True):\n",
        "    % cd /content/darknet\n",
        "    ! chmod 777 ./darknet\n",
        "    if tiny:\n",
        "        ! ./darknet detector test cfg/coco.data cfg/yolov4-tiny.cfg yolov4-tiny.weights data/horses.jpg \n",
        "    else:\n",
        "         ! ./darknet detector test cfg/coco.data cfg/yolov4.cfg yolov4.weights data/horses.jpg \n",
        "    image = cv2.imread('predictions.jpg')\n",
        "    cv2_imshow(image)"
      ],
      "execution_count": null,
      "outputs": []
    },
    {
      "cell_type": "code",
      "metadata": {
        "id": "OEADWDix9LmS",
        "colab_type": "code",
        "colab": {}
      },
      "source": [
        "# check that we get working YOLO version\n",
        "predict_sample()"
      ],
      "execution_count": null,
      "outputs": []
    },
    {
      "cell_type": "markdown",
      "metadata": {
        "id": "DG4dCTQQ-wM1",
        "colab_type": "text"
      },
      "source": [
        "### Prepare config files"
      ]
    },
    {
      "cell_type": "code",
      "metadata": {
        "id": "zq1jYWRR-3ix",
        "colab_type": "code",
        "colab": {
          "base_uri": "https://localhost:8080/",
          "height": 245
        },
        "outputId": "d75952c8-7ccf-4309-ec45-bcb4ce49ec57"
      },
      "source": [
        "% cd /content/\n",
        "! wget -c https://raw.githubusercontent.com/Gooogr/YOLO_Toolkit/master/splitTrainAndTest.py"
      ],
      "execution_count": null,
      "outputs": [
        {
          "output_type": "stream",
          "text": [
            "/content\n",
            "--2020-08-28 15:52:15--  https://raw.githubusercontent.com/Gooogr/YOLO_Toolkit/master/splitTrainAndTest.py\n",
            "Resolving raw.githubusercontent.com (raw.githubusercontent.com)... 151.101.0.133, 151.101.64.133, 151.101.128.133, ...\n",
            "Connecting to raw.githubusercontent.com (raw.githubusercontent.com)|151.101.0.133|:443... connected.\n",
            "HTTP request sent, awaiting response... 200 OK\n",
            "Length: 657 [text/plain]\n",
            "Saving to: ‘splitTrainAndTest.py’\n",
            "\n",
            "splitTrainAndTest.p 100%[===================>]     657  --.-KB/s    in 0s      \n",
            "\n",
            "2020-08-28 15:52:15 (41.3 MB/s) - ‘splitTrainAndTest.py’ saved [657/657]\n",
            "\n"
          ],
          "name": "stdout"
        }
      ]
    },
    {
      "cell_type": "code",
      "metadata": {
        "id": "ZnnATWLo_ioU",
        "colab_type": "code",
        "colab": {}
      },
      "source": [
        "# Create train and test(validate) txt files. Split ratio will be 0.1\n",
        "! python3 splitTrainAndTest.py /content/dataset"
      ],
      "execution_count": null,
      "outputs": []
    },
    {
      "cell_type": "code",
      "metadata": {
        "id": "Imbzw4Zc_0Q4",
        "colab_type": "code",
        "colab": {
          "base_uri": "https://localhost:8080/",
          "height": 34
        },
        "outputId": "a5bb8be5-0e98-4197-da6b-5c499900eebf"
      },
      "source": [
        "! mkdir /content/darknet/custom_config_files\n",
        "% cd /content/darknet/custom_config_files"
      ],
      "execution_count": null,
      "outputs": [
        {
          "output_type": "stream",
          "text": [
            "/content/darknet/custom_config_files\n"
          ],
          "name": "stdout"
        }
      ]
    },
    {
      "cell_type": "markdown",
      "metadata": {
        "id": "yu-dbFV8ILLj",
        "colab_type": "text"
      },
      "source": [
        "> obj.names\n",
        "\n",
        "One class - one line. If you make a mistake in the order of the labels, the algorithm will work, but will incorrectly name the detected objects."
      ]
    },
    {
      "cell_type": "code",
      "metadata": {
        "id": "j2IykedtH6_Y",
        "colab_type": "code",
        "colab": {
          "base_uri": "https://localhost:8080/",
          "height": 34
        },
        "outputId": "cae881e8-61bd-477b-dd7f-76314ed0da9d"
      },
      "source": [
        "%%writefile obj.names\n",
        "Human face\n",
        "Human hand"
      ],
      "execution_count": null,
      "outputs": [
        {
          "output_type": "stream",
          "text": [
            "Writing obj.names\n"
          ],
          "name": "stdout"
        }
      ]
    },
    {
      "cell_type": "markdown",
      "metadata": {
        "id": "P7bHfYwCGw7l",
        "colab_type": "text"
      },
      "source": [
        "> yolo.data\n",
        "\n",
        "Specify classes amount. Check pathes to other files:\n",
        "```\n",
        "classses = *amount of your classes*\n",
        "valid  = /content/test.txt\n",
        "names = /content/darknet/custom_config_files/obj.names\n",
        "backup = /content/yolo_weights\n",
        "train  = /content/train.txt\n",
        "```\n",
        "We will create backup folder later"
      ]
    },
    {
      "cell_type": "code",
      "metadata": {
        "id": "MBrlgyI1IOPE",
        "colab_type": "code",
        "colab": {
          "base_uri": "https://localhost:8080/",
          "height": 34
        },
        "outputId": "494699a5-054c-4298-8933-a261f049cf3a"
      },
      "source": [
        "%%writefile yolo.data\n",
        "classses = 2\n",
        "valid = /content/test.txt\n",
        "names =  /content/darknet/custom_config_files/obj.names\n",
        "backup = /content/yolo_weights\n",
        "train = /content/train.txt"
      ],
      "execution_count": null,
      "outputs": [
        {
          "output_type": "stream",
          "text": [
            "Writing yolo.data\n"
          ],
          "name": "stdout"
        }
      ]
    },
    {
      "cell_type": "markdown",
      "metadata": {
        "id": "YD9V4LR4KWUP",
        "colab_type": "text"
      },
      "source": [
        "> yolov4.cfg\n",
        "\n",
        "How to configure cfg file<br>\n",
        "https://github.com/AlexeyAB/darknet#how-to-train-to-detect-your-custom-objects"
      ]
    },
    {
      "cell_type": "code",
      "metadata": {
        "id": "1E14tWVHJroU",
        "colab_type": "code",
        "colab": {}
      },
      "source": [
        "#Generate anchors for cfg file\n",
        "def generate_anchors():\n",
        "    % cd /content/darknet\n",
        "    ! chmod 777 ./darknet\n",
        "    ! ./darknet detector calc_anchors \\\n",
        "    ./custom_config_files/yolo.data -num_of_clusters 2 -width 416 -height 416 -show\n"
      ],
      "execution_count": null,
      "outputs": []
    },
    {
      "cell_type": "code",
      "metadata": {
        "id": "FD5lX0LM-lMD",
        "colab_type": "code",
        "colab": {
          "base_uri": "https://localhost:8080/",
          "height": 434
        },
        "outputId": "c856d4ca-ddae-40e9-d55e-99e490090556"
      },
      "source": [
        "generate_anchors()"
      ],
      "execution_count": null,
      "outputs": [
        {
          "output_type": "stream",
          "text": [
            "/content/darknet\n",
            " CUDA-version: 10010 (10010), cuDNN: 7.6.5, GPU count: 1  \n",
            " OpenCV version: 3.2.0\n",
            "\n",
            " num_of_clusters = 2, width = 416, height = 416 \n",
            "classes: Using default '1'\n",
            " read labels from 17679 images \n",
            " loaded \t image: 17679 \t box: 59500\n",
            " all loaded. \n",
            "\n",
            " calculating k-means++ ...\n",
            "\n",
            " iterations = 21 \n",
            "\n",
            "\n",
            "counters_per_class = 29022, 52466\n",
            "\n",
            " avg IoU = 43.52 % \n",
            "\n",
            "Saving anchors to the file: anchors.txt \n",
            "anchors =  21, 30,  86,112\n",
            "Unable to init server: Could not connect: Connection refused\n",
            "\n",
            "(clusters:200872): Gtk-\u001b[1;33mWARNING\u001b[0m **: \u001b[34m15:52:49.207\u001b[0m: cannot open display: \n"
          ],
          "name": "stdout"
        }
      ]
    },
    {
      "cell_type": "markdown",
      "metadata": {
        "id": "UE6Hn5XW-xoA",
        "colab_type": "text"
      },
      "source": [
        "DONT FORGET TO ADD THESE ANCHORS TO .CFG FILE!"
      ]
    },
    {
      "cell_type": "markdown",
      "metadata": {
        "id": "fMLpLZbgiOVY",
        "colab_type": "text"
      },
      "source": [
        "Download prepaired .cfg file"
      ]
    },
    {
      "cell_type": "code",
      "metadata": {
        "id": "8G8IJbj8Ql9M",
        "colab_type": "code",
        "colab": {
          "base_uri": "https://localhost:8080/",
          "height": 245
        },
        "outputId": "3e0cca89-e7a7-4b47-c52a-f0428b1a74a5"
      },
      "source": [
        "% cd /content/darknet/custom_config_files/\n",
        "! wget -c https://raw.githubusercontent.com/Gooogr/YOLO_Webcam_Tracker/yolov4_tiny/model_files/yolov4-tiny-custom.cfg"
      ],
      "execution_count": null,
      "outputs": [
        {
          "output_type": "stream",
          "text": [
            "/content/darknet/custom_config_files\n",
            "--2020-08-28 16:32:02--  https://raw.githubusercontent.com/Gooogr/YOLO_Webcam_Tracker/yolov4_tiny/model_files/yolov4-tiny-custom.cfg\n",
            "Resolving raw.githubusercontent.com (raw.githubusercontent.com)... 151.101.0.133, 151.101.64.133, 151.101.128.133, ...\n",
            "Connecting to raw.githubusercontent.com (raw.githubusercontent.com)|151.101.0.133|:443... connected.\n",
            "HTTP request sent, awaiting response... 200 OK\n",
            "Length: 2950 (2.9K) [text/plain]\n",
            "Saving to: ‘yolov4-tiny-custom.cfg’\n",
            "\n",
            "\ryolov4-tiny-custom.   0%[                    ]       0  --.-KB/s               \ryolov4-tiny-custom. 100%[===================>]   2.88K  --.-KB/s    in 0s      \n",
            "\n",
            "2020-08-28 16:32:02 (42.6 MB/s) - ‘yolov4-tiny-custom.cfg’ saved [2950/2950]\n",
            "\n"
          ],
          "name": "stdout"
        }
      ]
    },
    {
      "cell_type": "code",
      "metadata": {
        "id": "_HuUyG_pE0n2",
        "colab_type": "code",
        "colab": {}
      },
      "source": [
        "# Create empty directiry for saving weights during the training\n",
        "! mkdir /content/yolo_weights"
      ],
      "execution_count": null,
      "outputs": []
    },
    {
      "cell_type": "markdown",
      "metadata": {
        "id": "L2xF0a4fRg2I",
        "colab_type": "text"
      },
      "source": [
        "### Train YOLOv4"
      ]
    },
    {
      "cell_type": "code",
      "metadata": {
        "id": "s0cwZD-9R4_j",
        "colab_type": "code",
        "colab": {}
      },
      "source": [
        "def train_yolo_from_scratch():\n",
        "    # Train YOLO\n",
        "    % cd /content/darknet\n",
        "    ! ./darknet detector train \\\n",
        "    ./custom_config_files/yolo.data \\\n",
        "    ./custom_config_files/yolov4-tiny-custom.cfg \\\n",
        "    ./yolov4-tiny.conv.29 > /content/temp_train.log -dont_show  "
      ],
      "execution_count": null,
      "outputs": []
    },
    {
      "cell_type": "code",
      "metadata": {
        "id": "Y4IVkJzGSTSd",
        "colab_type": "code",
        "colab": {}
      },
      "source": [
        "train_yolo_from_scratch()"
      ],
      "execution_count": null,
      "outputs": []
    }
  ]
}